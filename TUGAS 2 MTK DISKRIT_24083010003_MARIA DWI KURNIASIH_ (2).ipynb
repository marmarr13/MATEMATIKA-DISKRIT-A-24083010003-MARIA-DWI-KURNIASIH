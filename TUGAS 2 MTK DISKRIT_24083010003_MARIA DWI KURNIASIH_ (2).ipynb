{
 "cells": [
  {
   "cell_type": "markdown",
   "id": "978dd665-b8aa-4a9d-b969-2e7a99ffae3c",
   "metadata": {},
   "source": [
    "NAMA : MARIA DWI KURNIASIH\n",
    "\n",
    "NPM  : 24083010003\n",
    "\n",
    "MATEMATIKA DISKRIT A"
   ]
  },
  {
   "cell_type": "code",
   "execution_count": 97,
   "id": "589577ce-df59-40df-822b-58d4a7762fbc",
   "metadata": {},
   "outputs": [
    {
     "name": "stdout",
     "output_type": "stream",
     "text": [
      "0 0\n",
      "0.125 9\n"
     ]
    }
   ],
   "source": [
    "import math\n",
    "\n",
    "def sisi_kiri3(n):\n",
    "    return sum(k**2 for k in range(1, n+1))\n",
    "def sisi_kanan3(n):\n",
    "    return (n*(n+1)*(2*n+1)) // 6\n",
    "\n",
    "def sisi_kiri5(n):\n",
    "    return 2**n\n",
    "def sisi_kanan5(n):\n",
    "    return n**2\n",
    "\n",
    "# Coba cek\n",
    "print(sisi_kiri3(0), sisi_kanan3(0))\n",
    "print(sisi_kiri5(-3), sisi_kanan5(-3))"
   ]
  },
  {
   "cell_type": "code",
   "execution_count": 99,
   "id": "c14bc222-4be2-4fc5-9720-490a20f57123",
   "metadata": {},
   "outputs": [
    {
     "name": "stdout",
     "output_type": "stream",
     "text": [
      "1 1\n",
      "0.25 4\n"
     ]
    }
   ],
   "source": [
    "print(sisi_kiri3(1), sisi_kanan3(1))\n",
    "print(sisi_kiri5(-2), sisi_kanan5(-2))"
   ]
  },
  {
   "cell_type": "code",
   "execution_count": 101,
   "id": "2289c1d6-494f-4ec1-b8aa-e9e632a8ad25",
   "metadata": {},
   "outputs": [
    {
     "name": "stdout",
     "output_type": "stream",
     "text": [
      "338350 338350\n",
      "7.006492321624085e-46 22500\n"
     ]
    }
   ],
   "source": [
    "print(sisi_kiri3(100), sisi_kanan3(100))\n",
    "print(sisi_kiri5(-150), sisi_kanan5(-150))"
   ]
  },
  {
   "cell_type": "code",
   "execution_count": 102,
   "id": "e887aab7-0f71-4cc4-b73d-e9e2280a7d68",
   "metadata": {},
   "outputs": [
    {
     "name": "stdout",
     "output_type": "stream",
     "text": [
      "583220 583220\n",
      "1 0\n"
     ]
    }
   ],
   "source": [
    "print(sisi_kiri3(120), sisi_kanan3(120))\n",
    "print(sisi_kiri5(0), sisi_kanan5(0))"
   ]
  },
  {
   "cell_type": "code",
   "execution_count": 103,
   "id": "729de9b7-5d59-461b-8b51-e48fcc9f75e8",
   "metadata": {},
   "outputs": [
    {
     "name": "stdout",
     "output_type": "stream",
     "text": [
      "41791750 41791750\n",
      "1073741824 900\n"
     ]
    }
   ],
   "source": [
    "print(sisi_kiri3(500), sisi_kanan3(500))\n",
    "print(sisi_kiri5(30), sisi_kanan5(30))"
   ]
  },
  {
   "cell_type": "code",
   "execution_count": 107,
   "id": "f4e352ed-4855-4f7a-8caf-e5df2357e679",
   "metadata": {},
   "outputs": [
    {
     "name": "stdout",
     "output_type": "stream",
     "text": [
      "9045050 9045050\n",
      "1338928179998149.2 2525.0625\n"
     ]
    }
   ],
   "source": [
    "print(sisi_kiri3(300), sisi_kanan3(300))\n",
    "print(sisi_kiri5(50.25), sisi_kanan5(50.25))"
   ]
  },
  {
   "cell_type": "markdown",
   "id": "38e77895-b313-4ee1-8d0d-d3108ce2ab88",
   "metadata": {},
   "source": [
    "Dalam 5 soal yang diberikan, saya memilih soal ke 3 dan soal ke 5. \n",
    "Berdasarkan hasil praktikum yang telah dibuat, pada soal ke 3 yaitu:\n",
    "\n",
    "1^2+2^2+3^2+⋯+n^(2) = (n(n+1)(2n+1))/6 \n",
    "bilangan bulat berapapun dalam rentang n>=0 memiliki hasil yang sama baik di sisi kiri maupun kanan. Jadi, kedua persamaan tersebut valid dalam jangka n>=0\n",
    "\n",
    "Kemudian, pada soal ke 5 yaitu:\n",
    "2^n>n^2\n",
    "Segala rentang n<0 yaitu bilangan yang bernilai negatif memiliki hasil yang tidak valid. Pada bilangan negatif hasil yang didapatkan adalah sisi kiri < sisi kanan. \n",
    "Kemudian, segala rentang n>=0 yaitu bilangan positif baik bilangan bulat maupun bilangan desimal memiliki hasil yang valid. Hasil yang didapatkan ketika menggunakan n>=0 adalah sisi kiri > sisi kanan"
   ]
  },
  {
   "cell_type": "code",
   "execution_count": null,
   "id": "fadaad9f-2720-4f75-a389-252547cc9a1b",
   "metadata": {},
   "outputs": [],
   "source": []
  }
 ],
 "metadata": {
  "kernelspec": {
   "display_name": "Python 3 (ipykernel)",
   "language": "python",
   "name": "python3"
  },
  "language_info": {
   "codemirror_mode": {
    "name": "ipython",
    "version": 3
   },
   "file_extension": ".py",
   "mimetype": "text/x-python",
   "name": "python",
   "nbconvert_exporter": "python",
   "pygments_lexer": "ipython3",
   "version": "3.12.4"
  }
 },
 "nbformat": 4,
 "nbformat_minor": 5
}
